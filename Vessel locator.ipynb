{
 "cells": [
  {
   "cell_type": "markdown",
   "id": "8a99ae20",
   "metadata": {},
   "source": [
    "## A simple experiment in locating random ships in the oceans"
   ]
  },
  {
   "cell_type": "code",
   "execution_count": 1,
   "id": "3930781a",
   "metadata": {},
   "outputs": [],
   "source": [
    "from arcgis.gis import GIS\n",
    "import pandas as pd\n",
    "from get_ships import *"
   ]
  },
  {
   "cell_type": "code",
   "execution_count": 2,
   "id": "8ad7af68",
   "metadata": {},
   "outputs": [
    {
     "name": "stdout",
     "output_type": "stream",
     "text": [
      "9733612\n",
      "Feb 9, 2022 21:12 UTC\n",
      "2022-02-09 21:12:00\n",
      "strange table found\n",
      "strange table found\n",
      "9391933\n",
      "Mar 28, 2022 21:41 UTC\n",
      "2022-03-28 21:41:00\n",
      "9312834\n",
      "Mar 28, 2022 21:38 UTC\n",
      "2022-03-28 21:38:00\n",
      "strange table found\n",
      "strange table found\n",
      "9722302\n",
      "Mar 28, 2022 21:40 UTC\n",
      "2022-03-28 21:40:00\n",
      "strange table found\n",
      "strange table found\n",
      "9472529\n",
      "Mar 28, 2022 21:39 UTC\n",
      "2022-03-28 21:39:00\n",
      "strange table found\n",
      "strange table found\n",
      "9288708\n",
      "Mar 28, 2022 21:38 UTC\n",
      "2022-03-28 21:38:00\n",
      "strange table found\n",
      "strange table found\n"
     ]
    },
    {
     "data": {
      "text/html": [
       "<div>\n",
       "<style scoped>\n",
       "    .dataframe tbody tr th:only-of-type {\n",
       "        vertical-align: middle;\n",
       "    }\n",
       "\n",
       "    .dataframe tbody tr th {\n",
       "        vertical-align: top;\n",
       "    }\n",
       "\n",
       "    .dataframe thead th {\n",
       "        text-align: right;\n",
       "    }\n",
       "</style>\n",
       "<table border=\"1\" class=\"dataframe\">\n",
       "  <thead>\n",
       "    <tr style=\"text-align: right;\">\n",
       "      <th></th>\n",
       "      <th>Latitude</th>\n",
       "      <th>Longitude</th>\n",
       "      <th>Name</th>\n",
       "      <th>Last time</th>\n",
       "    </tr>\n",
       "  </thead>\n",
       "  <tbody>\n",
       "    <tr>\n",
       "      <th>0</th>\n",
       "      <td>-25.62308</td>\n",
       "      <td>-48.16821</td>\n",
       "      <td>GREAT VICTORY</td>\n",
       "      <td>2022-02-09 21:12:00</td>\n",
       "    </tr>\n",
       "    <tr>\n",
       "      <th>1</th>\n",
       "      <td>55.98445</td>\n",
       "      <td>-3.17218</td>\n",
       "      <td>VOS TRAVELLER</td>\n",
       "      <td>2022-03-28 21:41:00</td>\n",
       "    </tr>\n",
       "    <tr>\n",
       "      <th>2</th>\n",
       "      <td>-34.06934</td>\n",
       "      <td>-59.0314</td>\n",
       "      <td>MORNING CHORUS</td>\n",
       "      <td>2022-03-28 21:38:00</td>\n",
       "    </tr>\n",
       "    <tr>\n",
       "      <th>3</th>\n",
       "      <td>-34.39867</td>\n",
       "      <td>150.98407</td>\n",
       "      <td>THEBEN</td>\n",
       "      <td>2022-03-28 21:40:00</td>\n",
       "    </tr>\n",
       "    <tr>\n",
       "      <th>4</th>\n",
       "      <td>56.11686</td>\n",
       "      <td>-4.83742</td>\n",
       "      <td>BODIL KNUTSEN</td>\n",
       "      <td>2022-03-28 21:39:00</td>\n",
       "    </tr>\n",
       "    <tr>\n",
       "      <th>5</th>\n",
       "      <td>57.60927</td>\n",
       "      <td>10.67315</td>\n",
       "      <td>DELTA VICTORY</td>\n",
       "      <td>2022-03-28 21:38:00</td>\n",
       "    </tr>\n",
       "  </tbody>\n",
       "</table>\n",
       "</div>"
      ],
      "text/plain": [
       "    Latitude  Longitude            Name           Last time\n",
       "0  -25.62308  -48.16821   GREAT VICTORY 2022-02-09 21:12:00\n",
       "1   55.98445   -3.17218   VOS TRAVELLER 2022-03-28 21:41:00\n",
       "2  -34.06934   -59.0314  MORNING CHORUS 2022-03-28 21:38:00\n",
       "3  -34.39867  150.98407          THEBEN 2022-03-28 21:40:00\n",
       "4   56.11686   -4.83742   BODIL KNUTSEN 2022-03-28 21:39:00\n",
       "5   57.60927   10.67315   DELTA VICTORY 2022-03-28 21:38:00"
      ]
     },
     "metadata": {},
     "output_type": "display_data"
    }
   ],
   "source": [
    "IMOS = [9733612, 9391933, 9312834, 9722302, 9472529, 9288708]\n",
    "items = get_ships(IMOS)\n",
    "columns = ['Latitude', 'Longitude', 'Name', 'Last time']\n",
    "ships_df = pd.DataFrame(items, columns=columns)\n",
    "display(ships_df)"
   ]
  },
  {
   "cell_type": "code",
   "execution_count": 3,
   "id": "fbbefae2",
   "metadata": {},
   "outputs": [
    {
     "data": {
      "application/vnd.jupyter.widget-view+json": {
       "model_id": "c21ed62dcde945508a57cc82d645bb57",
       "version_major": 2,
       "version_minor": 0
      },
      "text/plain": [
       "MapView(layout=Layout(height='400px', width='100%'))"
      ]
     },
     "metadata": {},
     "output_type": "display_data"
    },
    {
     "data": {
      "text/html": [
       "<div class=\"map-static-img-preview-1e18f008-559a-4e6a-837f-43fd7e7f7711\"><img src=\"\"></img></div>"
      ],
      "text/plain": [
       "<IPython.core.display.HTML object>"
      ]
     },
     "metadata": {},
     "output_type": "display_data"
    },
    {
     "data": {
      "text/html": [
       "<div class=\"map-html-embed-preview-1e18f008-559a-4e6a-837f-43fd7e7f7711\"></div>"
      ],
      "text/plain": [
       "<IPython.core.display.HTML object>"
      ]
     },
     "metadata": {},
     "output_type": "display_data"
    }
   ],
   "source": [
    "#get it on a map:\n",
    "gis = GIS()\n",
    "map = gis.map()\n",
    "\n",
    "\n",
    "ships = gis.content.import_data(ships_df)\n",
    "map.add_layer(ships)\n",
    "#map.center = [lat, lng]\n",
    "map"
   ]
  },
  {
   "cell_type": "code",
   "execution_count": null,
   "id": "ae8a7da4",
   "metadata": {},
   "outputs": [],
   "source": []
  }
 ],
 "metadata": {
  "kernelspec": {
   "display_name": "Python 3",
   "language": "python",
   "name": "python3"
  },
  "language_info": {
   "codemirror_mode": {
    "name": "ipython",
    "version": 3
   },
   "file_extension": ".py",
   "mimetype": "text/x-python",
   "name": "python",
   "nbconvert_exporter": "python",
   "pygments_lexer": "ipython3",
   "version": "3.8.10"
  }
 },
 "nbformat": 4,
 "nbformat_minor": 5
}
